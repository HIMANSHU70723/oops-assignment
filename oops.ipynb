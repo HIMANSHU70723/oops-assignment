{
  "nbformat": 4,
  "nbformat_minor": 0,
  "metadata": {
    "colab": {
      "provenance": []
    },
    "kernelspec": {
      "name": "python3",
      "display_name": "Python 3"
    },
    "language_info": {
      "name": "python"
    }
  },
  "cells": [
    {
      "cell_type": "code",
      "source": [
        "1 #  Create a parent class Animal with a method speak() that prints a generic message. Create a child class Dog\n",
        "# that overrides the speak() method to print \"Bark!\".\n",
        "\n",
        "class Animal:\n",
        "    def speak(self):\n",
        "        print(\"Generic animal sound\")\n",
        "\n",
        "class Dog(Animal):\n",
        "    def speak(self):\n",
        "        print(\"Bark!\")\n",
        "\n",
        "# Create instances of the classes\n",
        "animal = Animal()\n",
        "dog = Dog()\n",
        "\n",
        "# Call the speak() method for each instance\n",
        "animal.speak()  # Output: Generic animal sound\n",
        "dog.speak()  # Output: Bark!\n"
      ],
      "metadata": {
        "colab": {
          "base_uri": "https://localhost:8080/"
        },
        "id": "mFIa0sT2GzMU",
        "outputId": "598696c9-9fa5-42a1-84dc-48369a1d134e"
      },
      "execution_count": 34,
      "outputs": [
        {
          "output_type": "stream",
          "name": "stdout",
          "text": [
            "Generic animal sound\n",
            "Bark!\n"
          ]
        }
      ]
    },
    {
      "cell_type": "code",
      "source": [
        "2 #  Write a program to create an abstract class Shape with a method area(). Derive classes Circle and Rectangle\n",
        "# from it and implement the area() method in both.\n",
        "\n",
        "\n",
        "from abc import ABC, abstractmethod\n",
        "import math\n",
        "\n",
        "class Shape(ABC):\n",
        "    @abstractmethod\n",
        "    def area(self):\n",
        "        pass\n",
        "\n",
        "class Circle(Shape):\n",
        "    def __init__(self, radius):\n",
        "        self.radius = radius\n",
        "\n",
        "    def area(self):\n",
        "        return math.pi * self.radius**2\n",
        "\n",
        "class Rectangle(Shape):\n",
        "    def __init__(self, length, width):\n",
        "        self.length = length\n",
        "        self.width = width\n",
        "\n",
        "    def area(self):\n",
        "        return self.length * self.width\n",
        "\n",
        "# Create instances of the classes\n",
        "circle = Circle(5)\n",
        "rectangle = Rectangle(4, 6)\n",
        "\n",
        "# Call the area() method for each instance\n",
        "print(\"Area of circle:\", circle.area())  # Output: Area of circle: 78.53"
      ],
      "metadata": {
        "colab": {
          "base_uri": "https://localhost:8080/"
        },
        "id": "e1MaCBcWHCbw",
        "outputId": "0c9c0751-cbb4-43e0-e0c4-577330b6afe0"
      },
      "execution_count": 3,
      "outputs": [
        {
          "output_type": "stream",
          "name": "stdout",
          "text": [
            "Area of circle: 78.53981633974483\n"
          ]
        }
      ]
    },
    {
      "cell_type": "code",
      "source": [
        "3 # Implement a multi-level inheritance scenario where a class Vehicle has an attribute type. Derive a class Car\n",
        "# and further derive a class ElectricCar that adds a battery attribute.\n",
        "\n",
        "class Vehicle:\n",
        "    def __init__(self, type):\n",
        "        self.type = type\n",
        "\n",
        "class Car(Vehicle):\n",
        "    def __init__(self, type, model):\n",
        "        super().__init__(type)  # Call the parent class's __init__ method\n",
        "        self.model = model\n",
        "\n",
        "class ElectricCar(Car):\n",
        "    def __init__(self, type, model, battery):\n",
        "        super().__init__(type, model)  # Call the parent class's __init__ method\n",
        "        self.battery = battery\n",
        "\n",
        "# Create instances of the classes\n",
        "vehicle = Vehicle(\"Truck\")\n",
        "car = Car(\"Sedan\", \"Toyota Camry\")\n",
        "electric_car = ElectricCar(\"Electric\", \"Tesla Model S\", \"100kWh\")\n",
        "\n",
        "# Print the attributes of each instance\n",
        "print(f\"Vehicle type: {vehicle.type}\")  # Output: Vehicle type: Truck\n",
        "print(f\"Car type: {car.type}, model: {car.model}\")  # Output: Car type: Sedan, model: Toyota Camry\n",
        "print(f\"Electric car type: {electric_car.type}, model: {electric_car.model}, battery: {electric_car.battery}\")\n",
        "# Output: Electric car type: Electric, model: Tesla Model S, battery: 100kWh\n"
      ],
      "metadata": {
        "colab": {
          "base_uri": "https://localhost:8080/"
        },
        "id": "Fw9ceR6JHYhq",
        "outputId": "bc11e65b-b5cf-497b-ce3b-2287ec50dec5"
      },
      "execution_count": 4,
      "outputs": [
        {
          "output_type": "stream",
          "name": "stdout",
          "text": [
            "Vehicle type: Truck\n",
            "Car type: Sedan, model: Toyota Camry\n",
            "Electric car type: Electric, model: Tesla Model S, battery: 100kWh\n"
          ]
        }
      ]
    },
    {
      "cell_type": "code",
      "source": [
        "4 # Demonstrate polymorphism by creating a base class Bird with a method fly(). Create two derived classes\n",
        "# Sparrow and Penguin that override the fly() method.\n",
        "\n",
        "class Bird:\n",
        "    def fly(self):\n",
        "        print(\"Generic bird flying\")\n",
        "\n",
        "class Sparrow(Bird):\n",
        "    def fly(self):\n",
        "        print(\"Sparrow flying\")\n",
        "\n",
        "class Penguin(Bird):\n",
        "    def fly(self):\n",
        "        print(\"Penguins cannot fly, they waddle\")\n",
        "\n",
        "# Create instances of the classes\n",
        "bird = Bird()\n",
        "sparrow = Sparrow()\n",
        "penguin = Penguin()\n",
        "\n",
        "# Call the fly() method for each instance\n",
        "bird.fly()  # Output: Generic bird flying\n",
        "sparrow.fly()  # Output: Sparrow flying\n",
        "penguin.fly()  # Output: Penguins cannot fly, they waddle\n"
      ],
      "metadata": {
        "colab": {
          "base_uri": "https://localhost:8080/"
        },
        "id": "kE2nMJuCHu7o",
        "outputId": "9cf5a7bb-443b-4602-b073-40137e836e5f"
      },
      "execution_count": 5,
      "outputs": [
        {
          "output_type": "stream",
          "name": "stdout",
          "text": [
            "Generic bird flying\n",
            "Sparrow flying\n",
            "Penguins cannot fly, they waddle\n"
          ]
        }
      ]
    },
    {
      "cell_type": "code",
      "source": [
        "5 # Write a program to demonstrate encapsulation by creating a class BankAccount with private attributes\n",
        "# balance and methods to deposit, withdraw, and check balance.\n",
        "\n",
        "class BankAccount:\n",
        "    def __init__(self, initial_balance=0):\n",
        "        self.__balance = initial_balance  # Private attribute with double underscore\n",
        "\n",
        "    def deposit(self, amount):\n",
        "        if amount > 0:\n",
        "            self.__balance += amount\n",
        "            print(f\"Deposited: ${amount:.2f}\")\n",
        "        else:\n",
        "            print(\"Invalid deposit amount.\")\n",
        "\n",
        "    def withdraw(self, amount):\n",
        "        if 0 < amount <= self.__balance:\n",
        "            self.__balance -= amount\n",
        "            print(f\"Withdrew: ${amount:.2f}\")\n",
        "        else:\n",
        "            print(\"Insufficient funds or invalid withdrawal amount.\")\n",
        "\n",
        "    def check_balance(self):\n",
        "        print(f\"Current balance: ${self.__balance:.2f}\")\n",
        "\n",
        "# Create an instance of BankAccount\n",
        "account = BankAccount(1000)\n",
        "\n",
        "# Perform operations\n",
        "account.deposit(500)\n",
        "account.withdraw(200)\n",
        "account.check_balance()"
      ],
      "metadata": {
        "colab": {
          "base_uri": "https://localhost:8080/"
        },
        "id": "lUf01TnOIA0U",
        "outputId": "9b1e4d60-1d10-45bc-de08-65ab2d1e694c"
      },
      "execution_count": 6,
      "outputs": [
        {
          "output_type": "stream",
          "name": "stdout",
          "text": [
            "Deposited: $500.00\n",
            "Withdrew: $200.00\n",
            "Current balance: $1300.00\n"
          ]
        }
      ]
    },
    {
      "cell_type": "code",
      "source": [
        "6 # Demonstrate runtime polymorphism using a method play() in a base class Instrument. Derive classes Guitar\n",
        "#and Piano that implement their own version of play()\n",
        "\n",
        "class Instrument:\n",
        "    def play(self):\n",
        "        print(\"Generic instrument sound\")\n",
        "\n",
        "class Guitar(Instrument):\n",
        "    def play(self):\n",
        "        print(\"Strumming the guitar\")\n",
        "\n",
        "class Piano(Instrument):\n",
        "    def play(self):\n",
        "        print(\"Playing the piano keys\")\n",
        "\n",
        "# Create instances of the classes\n",
        "instrument = Instrument()\n",
        "guitar = Guitar()\n",
        "piano = Piano()\n",
        "\n",
        "# Call the play() method for each instance\n",
        "instrument.play()  # Output: Generic instrument sound\n",
        "guitar.play()  # Output: Strumming the guitar\n",
        "piano.play()  # Output: Playing the piano keys\n"
      ],
      "metadata": {
        "colab": {
          "base_uri": "https://localhost:8080/"
        },
        "id": "tyM9CU0NIVkz",
        "outputId": "0a010710-73e0-4ad8-8f33-c30cef1ff390"
      },
      "execution_count": 7,
      "outputs": [
        {
          "output_type": "stream",
          "name": "stdout",
          "text": [
            "Generic instrument sound\n",
            "Strumming the guitar\n",
            "Playing the piano keys\n"
          ]
        }
      ]
    },
    {
      "cell_type": "code",
      "source": [
        "7 # Create a class MathOperations with a class method add_numbers() to add two numbers and a static\n",
        "# method subtract_numbers() to subtract two numbers.\n",
        "\n",
        "class MathOperations:\n",
        "    # Class method to add two numbers\n",
        "    @classmethod\n",
        "    def add_numbers(cls, num1, num2):\n",
        "        return num1 + num2\n",
        "\n",
        "    # Static method to subtract two numbers\n",
        "    @staticmethod\n",
        "    def subtract_numbers(num1, num2):\n",
        "        return num1 - num2\n",
        "\n",
        "# Example Usage:\n",
        "\n",
        "# Using the class method add_numbers\n",
        "result_add = MathOperations.add_numbers(10, 5)\n",
        "print(f\"Addition Result: {result_add}\")  # Output: 15\n",
        "\n",
        "# Using the static method subtract_numbers\n",
        "result_subtract = MathOperations.subtract_numbers(10, 5)\n",
        "print(f\"Subtraction Result: {result_subtract}\")  # Output: 5\n"
      ],
      "metadata": {
        "colab": {
          "base_uri": "https://localhost:8080/"
        },
        "id": "ih1COL44JcME",
        "outputId": "14aac130-ed26-43ea-9da2-60e7cd20f783"
      },
      "execution_count": 18,
      "outputs": [
        {
          "output_type": "stream",
          "name": "stdout",
          "text": [
            "Addition Result: 15\n",
            "Subtraction Result: 5\n"
          ]
        }
      ]
    },
    {
      "cell_type": "code",
      "source": [
        " 8 #  Implement a class Person with a class method to count the total number of persons created.\n",
        "\n",
        " class Person:\n",
        "    count = 0  # Class variable to store the count\n",
        "\n",
        "    def __init__(self, name):\n",
        "        self.name = name\n",
        "        Person.count += 1  # Increment count when a new Person is created\n",
        "\n",
        "    @classmethod\n",
        "    def get_total_persons(cls):\n",
        "        return cls.count\n",
        "\n",
        "# Create instances of Person\n",
        "person1 = Person(\"Alice\")\n",
        "person2 = Person(\"Bob\")\n",
        "person3 = Person(\"Charlie\")\n",
        "\n",
        "# Get the total number of persons created\n",
        "total_persons = Person.get_total_persons()\n",
        "print(f\"Total persons created: {total_persons}\")  # Output: Total persons created: 3"
      ],
      "metadata": {
        "colab": {
          "base_uri": "https://localhost:8080/"
        },
        "id": "f5USFx-3KWGX",
        "outputId": "59610802-fb2b-4925-dfdf-042f587ebbe6"
      },
      "execution_count": 19,
      "outputs": [
        {
          "output_type": "stream",
          "name": "stdout",
          "text": [
            "Total persons created: 3\n"
          ]
        }
      ]
    },
    {
      "cell_type": "code",
      "source": [
        "9 # Write a class Fraction with attributes numerator and denominator. Override the str method to display the\n",
        "# fraction as \"numerator/denominator\".\n",
        "\n",
        "class Fraction:\n",
        "    def __init__(self, numerator, denominator):\n",
        "        self.numerator = numerator\n",
        "        self.denominator = denominator\n",
        "\n",
        "    def __str__(self):\n",
        "        return f\"{self.numerator}/{self.denominator}\"\n",
        "\n",
        "# Create a Fraction object\n",
        "fraction = Fraction(3, 4)\n",
        "\n",
        "# Print the fraction (calls the __str__ method implicitly)\n",
        "print(fraction)  # Output: 3/4"
      ],
      "metadata": {
        "colab": {
          "base_uri": "https://localhost:8080/"
        },
        "id": "pkP43Tm0Kip3",
        "outputId": "b4920c1b-ff86-430e-dfdd-57afd77289f4"
      },
      "execution_count": 20,
      "outputs": [
        {
          "output_type": "stream",
          "name": "stdout",
          "text": [
            "3/4\n"
          ]
        }
      ]
    },
    {
      "cell_type": "code",
      "source": [
        "10 # Demonstrate operator overloading by creating a class Vector and overriding the add method to add two vectors\n",
        "\n",
        "class Vector:\n",
        "    def __init__(self, x, y):\n",
        "        self.x = x\n",
        "        self.y = y\n",
        "\n",
        "    def __add__(self, other):\n",
        "        return Vector(self.x + other.x, self.y + other.y)Create a class Person with attributes name and age. Add a method greet() that prints \"Hello, my name is\n",
        "\n",
        "\n",
        "    def __str__(self):\n",
        "        return f\"({self.x}, {self.y})\"\n",
        "\n",
        "# Create two Vector objects\n",
        "v1 = Vector(2, 3)\n",
        "v2 = Vector(4, 5)\n",
        "\n",
        "# Add the vectors using the overloaded '+' operator\n",
        "v3 = v1 + v2\n",
        "\n",
        "# Print the resulting vector\n",
        "print(v3)  # Output: (6, 8)\n"
      ],
      "metadata": {
        "colab": {
          "base_uri": "https://localhost:8080/"
        },
        "id": "kF4MYQ9YK0DM",
        "outputId": "c246657d-dec5-4a5c-ed99-82e1c089ac06"
      },
      "execution_count": 21,
      "outputs": [
        {
          "output_type": "stream",
          "name": "stdout",
          "text": [
            "(6, 8)\n"
          ]
        }
      ]
    },
    {
      "cell_type": "code",
      "source": [
        "11 # Create a class Person with attributes name and age. Add a method greet() that prints \"Hello, my name is\n",
        "#  {name} and I am {age} years old.\"\n",
        "\n",
        "class Person:\n",
        "    def __init__(self, name, age):\n",
        "        self.name = name\n",
        "        self.age = age\n",
        "\n",
        "    def greet(self):\n",
        "        print(f\"Hello, my name is {self.name} and I am {self.age} years old.\")\n",
        "\n",
        "# Create a Person object\n",
        "person = Person(\"himanshu\", 21)\n",
        "\n",
        "# Call the greet() method\n",
        "person.greet()  # Output: Hello, my name is Alice and I am 30 years old."
      ],
      "metadata": {
        "colab": {
          "base_uri": "https://localhost:8080/"
        },
        "id": "1tJpk2oZLIHJ",
        "outputId": "59402353-fee3-4c30-8364-c73c5196609c"
      },
      "execution_count": 23,
      "outputs": [
        {
          "output_type": "stream",
          "name": "stdout",
          "text": [
            "Hello, my name is himanshu and I am 21 years old.\n"
          ]
        }
      ]
    },
    {
      "cell_type": "code",
      "source": [
        "12 #  Implement a class Student with attributes name and grades. Create a method average_grade() to compute\n",
        "# the average of the grades.\n",
        "\n",
        "class Student:\n",
        "    def __init__(self, name, grades):\n",
        "        self.name = name\n",
        "        self.grades = grades\n",
        "\n",
        "    def average_grade(self):\n",
        "        if self.grades:  # Check if grades list is not empty\n",
        "            return sum(self.grades) / len(self.grades)\n",
        "        else:\n",
        "            return 0  # Return 0 if no grades are available\n",
        "\n",
        "# Example usage\n",
        "student1 = Student(\"himanshu\", [85, 90, 92, 88])\n",
        "average = student1.average_grade()\n",
        "print(f\"{student1.name}'s average grade: {average}\")  # Output: Alice's average grade: 88.75\n",
        "\n",
        "student2 = Student(\"Bob\", [])  # Student with no grades\n",
        "average = student2.average_grade()\n",
        "print(f\"{student2.name}'s average grade: {average}\")  # Output: Bob's average grade: 0\n"
      ],
      "metadata": {
        "colab": {
          "base_uri": "https://localhost:8080/"
        },
        "id": "9QIBVAr-LpDf",
        "outputId": "237d5a43-843c-490a-d6cf-b3340bfc1d6a"
      },
      "execution_count": 25,
      "outputs": [
        {
          "output_type": "stream",
          "name": "stdout",
          "text": [
            "himanshu's average grade: 88.75\n",
            "Bob's average grade: 0\n"
          ]
        }
      ]
    },
    {
      "cell_type": "code",
      "source": [
        "13 # Create a class Rectangle with methods set_dimensions() to set the dimensions and area() to calculate the\n",
        "# area\n",
        "\n",
        "class Rectangle:\n",
        "    def __init__(self, length=0, width=0):  # Initialize with default values\n",
        "        self.length = length\n",
        "        self.width = width\n",
        "\n",
        "    def set_dimensions(self, length, width):\n",
        "        self.length = length\n",
        "        self.width = width\n",
        "\n",
        "    def area(self):\n",
        "        return self.length * self.width\n",
        "\n",
        "# Example usage\n",
        "rectangle = Rectangle()  # Create a rectangle object\n",
        "rectangle.set_dimensions(5, 4)  # Set dimensions\n",
        "area = rectangle.area()  # Calculate area\n",
        "print(f\"Area of the rectangle: {area}\")  # Output: Area of the rectangle: 20"
      ],
      "metadata": {
        "colab": {
          "base_uri": "https://localhost:8080/"
        },
        "id": "M8kYYS_qMDi4",
        "outputId": "45036690-2823-467e-ec8f-6b557f7faf9d"
      },
      "execution_count": 26,
      "outputs": [
        {
          "output_type": "stream",
          "name": "stdout",
          "text": [
            "Area of the rectangle: 20\n"
          ]
        }
      ]
    },
    {
      "cell_type": "code",
      "source": [
        "14 # Create a class Employee with a method calculate_salary() that computes the salary based on hours worked\n",
        "# and hourly rate. Create a derived class Manager that adds a bonus to the salary\n",
        "\n",
        "\n",
        "class Employee:\n",
        "    def __init__(self, name, hours_worked, hourly_rate):\n",
        "        self.name = name\n",
        "        self.hours_worked = hours_worked\n",
        "        self.hourly_rate = hourly_rate\n",
        "\n",
        "    def calculate_salary(self):\n",
        "        return self.hours_worked * self.hourly_rate\n",
        "\n",
        "class Manager(Employee):\n",
        "    def __init__(self, name, hours_worked, hourly_rate, bonus):\n",
        "        super().__init__(name, hours_worked, hourly_rate)\n",
        "        self.bonus = bonus\n",
        "\n",
        "    def calculate_salary(self):\n",
        "        base_salary = super().calculate_salary()\n",
        "        return base_salary + self.bonus\n",
        "\n",
        "# Example usage\n",
        "employee = Employee(\"Alice\", 40, 25)\n",
        "employee_salary = employee.calculate_salary()\n",
        "print(f\"{employee.name}'s salary: ${employee_salary}\")  # Output: Alice's salary: $1000\n",
        "\n",
        "manager = Manager(\"Bob\", 40, 30, 500)\n",
        "manager_salary = manager.calculate_salary()\n",
        "print(f\"{manager.name}'s salary: ${manager_salary}\")  # Output: Bob's salary: $1700"
      ],
      "metadata": {
        "colab": {
          "base_uri": "https://localhost:8080/"
        },
        "id": "C8-w1xDAMXeL",
        "outputId": "5df4aabf-fe19-46ff-f69d-5f3a5938628c"
      },
      "execution_count": 28,
      "outputs": [
        {
          "output_type": "stream",
          "name": "stdout",
          "text": [
            "Alice's salary: $1000\n",
            "Bob's salary: $1700\n"
          ]
        }
      ]
    },
    {
      "cell_type": "code",
      "source": [
        "15 # Create a class Product with attributes name, price, and quantity. Implement a method total_price() that\n",
        "# calculates the total price of the product.\n",
        "\n",
        "class Product:\n",
        "    def __init__(self, name, price, quantity):\n",
        "        self.name = name\n",
        "        self.price = price\n",
        "        self.quantity = quantity\n",
        "\n",
        "    def total_price(self):\n",
        "        return self.price * self.quantity\n",
        "\n",
        "# Example usage\n",
        "product = Product(\"Laptop\", 1200, 2)\n",
        "total_price = product.total_price()\n",
        "print(f\"Total price of {product.name}: ${total_price}\")  # Output: Total price of Laptop: $2400"
      ],
      "metadata": {
        "colab": {
          "base_uri": "https://localhost:8080/"
        },
        "id": "Ej-4kaNMM4CL",
        "outputId": "cba45eda-2538-40f5-b418-ef9879f4996f"
      },
      "execution_count": 29,
      "outputs": [
        {
          "output_type": "stream",
          "name": "stdout",
          "text": [
            "Total price of Laptop: $2400\n"
          ]
        }
      ]
    },
    {
      "cell_type": "code",
      "source": [
        "16 #  Create a class Animal with an abstract method sound(). Create two derived classes Cow and Sheep that\n",
        "# implement the sound() method.\n",
        "\n",
        "from abc import ABC, abstractmethod\n",
        "\n",
        "class Animal(ABC):\n",
        "    @abstractmethod\n",
        "    def sound(self):\n",
        "        pass\n",
        "\n",
        "class Cow(Animal):\n",
        "    def sound(self):\n",
        "        print(\"Moo!\")\n",
        "\n",
        "class Sheep(Animal):\n",
        "    def sound(self):\n",
        "        print(\"Baa!\")\n",
        "\n",
        "# Create instances of the classes\n",
        "cow = Cow()\n",
        "sheep = Sheep()\n",
        "\n",
        "# Call the sound() method for each instance\n",
        "cow.sound()  # Output: Moo!\n",
        "sheep.sound()  # Output: Baa!"
      ],
      "metadata": {
        "colab": {
          "base_uri": "https://localhost:8080/"
        },
        "id": "ArYhefBqNMq7",
        "outputId": "5289da02-112f-48a9-dfdb-537df8be359d"
      },
      "execution_count": 30,
      "outputs": [
        {
          "output_type": "stream",
          "name": "stdout",
          "text": [
            "Moo!\n",
            "Baa!\n"
          ]
        }
      ]
    },
    {
      "cell_type": "code",
      "source": [
        "17 # Create a class Book with attributes title, author, and year_published. Add a method get_book_info() that\n",
        "# returns a formatted string with the book's details.\n",
        "\n",
        "\n",
        "class Book:\n",
        "    def __init__(self, title, author, year_published):\n",
        "        self.title = title\n",
        "        self.author = author\n",
        "        self.year_published = year_published\n",
        "\n",
        "    def get_book_info(self):\n",
        "        return f\"Title: {self.title}, Author: {self.author}, Year: {self.year_published}\"\n",
        "\n",
        "# Example usage\n",
        "book = Book(\"The Lord of the Rings\", \"J.R.R. Tolkien\", 1954)\n",
        "book_info = book.get_book_info()\n",
        "print(book_info)  # Output: Title: The Lord of the Rings, Author: J.R.R. Tolkien, Year: 1954"
      ],
      "metadata": {
        "colab": {
          "base_uri": "https://localhost:8080/"
        },
        "id": "Gb08Hn8HNdRC",
        "outputId": "b1568c18-b286-4416-dbd0-6d72c7c43b6b"
      },
      "execution_count": 31,
      "outputs": [
        {
          "output_type": "stream",
          "name": "stdout",
          "text": [
            "Title: The Lord of the Rings, Author: J.R.R. Tolkien, Year: 1954\n"
          ]
        }
      ]
    },
    {
      "cell_type": "code",
      "source": [
        "18 #  Create a class House with attributes address and price. Create a derived class Mansion that adds an\n",
        "# attribute number_of_rooms.\n",
        "\n",
        "class House:\n",
        "    def __init__(self, address, price):\n",
        "        self.address = address\n",
        "        self.price = price\n",
        "\n",
        "class Mansion(House):\n",
        "    def __init__(self, address, price, number_of_rooms):\n",
        "        super().__init__(address, price)\n",
        "        self.number_of_rooms = number_of_rooms\n",
        "\n",
        "# Example usage\n",
        "house = House(\"123 Main St\", 500000)\n",
        "mansion = Mansion(\"456 Park Ave\", 2000000, 10)\n",
        "\n",
        "print(f\"House address: {house.address}, price: ${house.price}\")\n",
        "# Output: House address: 123 Main St, price: $500000\n",
        "\n",
        "print(f\"Mansion address: {mansion.address}, price: ${mansion.price}, rooms: {mansion.number_of_rooms}\")\n",
        "# Output: Mansion address: 456 Park Ave, price: $2000000, rooms: 1018"
      ],
      "metadata": {
        "colab": {
          "base_uri": "https://localhost:8080/"
        },
        "id": "OYbVUHf7OFLq",
        "outputId": "0eecb92d-77a7-415f-fadf-e2dc8d02b430"
      },
      "execution_count": 33,
      "outputs": [
        {
          "output_type": "stream",
          "name": "stdout",
          "text": [
            "House address: 123 Main St, price: $500000\n",
            "Mansion address: 456 Park Ave, price: $2000000, rooms: 10\n"
          ]
        }
      ]
    }
  ]
}